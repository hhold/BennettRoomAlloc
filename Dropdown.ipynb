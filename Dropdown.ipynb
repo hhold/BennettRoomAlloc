{
 "cells": [
  {
   "cell_type": "code",
   "execution_count": 1,
   "metadata": {},
   "outputs": [],
   "source": [
    "from tkinter import *\n",
    "\n",
    "master = Tk()\n",
    "\n",
    "variable = StringVar(master)\n",
    "variable.set(\"None\") # default value\n",
    "\n",
    "w = OptionMenu(master, variable, \"ACM\", \"Alexis\", \"Astronomy\",\"Ansh\",\"Advaita\",\"Codechef\",\"Cerebrum\",\"Isaac\",\"Spic Macay\",\"Verve\",\"Nomads\",\"Silhouette\",\"Robotics\",\"Spark\",\"Karobaar\",\"Pulse\",\"MUN\")\n",
    "w.pack()\n",
    "\n",
    "mainloop()"
   ]
  },
  {
   "cell_type": "code",
   "execution_count": null,
   "metadata": {},
   "outputs": [],
   "source": []
  }
 ],
 "metadata": {
  "kernelspec": {
   "display_name": "Python 3",
   "language": "python",
   "name": "python3"
  },
  "language_info": {
   "codemirror_mode": {
    "name": "ipython",
    "version": 3
   },
   "file_extension": ".py",
   "mimetype": "text/x-python",
   "name": "python",
   "nbconvert_exporter": "python",
   "pygments_lexer": "ipython3",
   "version": "3.6.5"
  }
 },
 "nbformat": 4,
 "nbformat_minor": 2
}
